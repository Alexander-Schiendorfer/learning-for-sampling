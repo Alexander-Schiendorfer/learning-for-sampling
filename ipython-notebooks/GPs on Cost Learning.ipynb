{
 "metadata": {
  "name": "GPs on Cost Learning"
 },
 "nbformat": 3,
 "nbformat_minor": 0,
 "worksheets": [
  {
   "cells": [
    {
     "cell_type": "code",
     "collapsed": false,
     "input": [
      "# this script trains a GP for the data set we have\n",
      "\n",
      "import numpy as np\n",
      "np.random.seed(0)\n",
      "import matplotlib.pylab as plt\n",
      "import scipy.stats\n",
      "import GPy\n",
      "\n",
      "# Data\n",
      "path_to_csv = \"Costs50.csv\"\n",
      "data = np.genfromtxt(path_to_csv, dtype=float, delimiter=';')\n",
      "power50 = data[:,0]\n",
      "costs50 = data[:,1]\n",
      "# For training.\n",
      "X = np.ascontiguousarray(np.atleast_2d(power50).T)\n",
      "Y = np.ascontiguousarray(np.atleast_2d(costs50).T)"
     ],
     "language": "python",
     "metadata": {},
     "outputs": [],
     "prompt_number": 4
    },
    {
     "cell_type": "code",
     "collapsed": false,
     "input": [
      "# let's start with different kernels \n",
      "\n",
      "# first, generic rbf\n",
      "ker = GPy.kern.RBF(1)\n",
      "\n"
     ],
     "language": "python",
     "metadata": {},
     "outputs": [],
     "prompt_number": 5
    },
    {
     "cell_type": "code",
     "collapsed": false,
     "input": [
      "model = GPy.models.GPRegression(X, Y, ker)"
     ],
     "language": "python",
     "metadata": {},
     "outputs": [],
     "prompt_number": 6
    },
    {
     "cell_type": "code",
     "collapsed": false,
     "input": [
      "model.optimize_restarts(num_restarts=10)\n",
      "model.plot()"
     ],
     "language": "python",
     "metadata": {},
     "outputs": [
      {
       "output_type": "stream",
       "stream": "stdout",
       "text": [
        "Optimization restart 1/10, f = 709.96723635\n",
        "Optimization restart 2/10, f = 709.291389752"
       ]
      },
      {
       "output_type": "stream",
       "stream": "stdout",
       "text": [
        "\n",
        "Optimization restart 3/10, f = 2626.67517271"
       ]
      },
      {
       "output_type": "stream",
       "stream": "stdout",
       "text": [
        "\n",
        "Optimization restart 4/10, f = 705.637548213"
       ]
      },
      {
       "output_type": "stream",
       "stream": "stdout",
       "text": [
        "\n",
        "Optimization restart 5/10, f = 709.069139905"
       ]
      },
      {
       "output_type": "stream",
       "stream": "stdout",
       "text": [
        "\n",
        "Optimization restart 6/10, f = 708.576506418"
       ]
      },
      {
       "output_type": "stream",
       "stream": "stdout",
       "text": [
        "\n",
        "Optimization restart 7/10, f = 2507.0081841"
       ]
      },
      {
       "output_type": "stream",
       "stream": "stdout",
       "text": [
        "\n",
        "Optimization restart 8/10, f = 3668.70743178"
       ]
      },
      {
       "output_type": "stream",
       "stream": "stdout",
       "text": [
        "\n",
        "Optimization restart 9/10, f = 3979.03598267"
       ]
      },
      {
       "output_type": "stream",
       "stream": "stdout",
       "text": [
        "\n",
        "Optimization restart 10/10, f = 2266.97719373"
       ]
      },
      {
       "output_type": "stream",
       "stream": "stdout",
       "text": [
        "\n"
       ]
      },
      {
       "output_type": "pyout",
       "prompt_number": 8,
       "text": [
        "{'dataplot': [<matplotlib.lines.Line2D at 0x46fa810>],\n",
        " 'gpplot': [[<matplotlib.lines.Line2D at 0x46f5790>],\n",
        "  [<matplotlib.patches.Polygon at 0x46f5990>],\n",
        "  [<matplotlib.lines.Line2D at 0x46f5ed0>],\n",
        "  [<matplotlib.lines.Line2D at 0x46fa310>]]}"
       ]
      },
      {
       "output_type": "display_data",
       "png": "[encoded data removed]"
      }
     ],
     "prompt_number": 8
    },
    {
     "cell_type": "code",
     "collapsed": false,
     "input": [],
     "language": "python",
     "metadata": {},
     "outputs": []
    }
   ],
   "metadata": {}
  }
 ]
}